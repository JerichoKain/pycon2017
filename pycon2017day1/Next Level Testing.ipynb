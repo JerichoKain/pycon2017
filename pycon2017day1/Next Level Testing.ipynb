{
 "cells": [
  {
   "cell_type": "markdown",
   "metadata": {},
   "source": [
    "# Next Level Testing\n",
    "James Saryerwinnie\n",
    "\n",
    "Property based testing\n",
    " - assert abs([1,-1]) == 1\n",
    " - assert abs(0) = 0\n",
    " - but we can do better - randome\n",
    " - hypothesis\n",
    "  - powerful data generation\n",
    "  - generated minimal testcases on failure\n",
    "  - refactor: old function values should equal new function values"
   ]
  },
  {
   "cell_type": "code",
   "execution_count": 1,
   "metadata": {},
   "outputs": [
    {
     "ename": "SyntaxError",
     "evalue": "invalid syntax (<ipython-input-1-8b46ddffb073>, line 5)",
     "output_type": "error",
     "traceback": [
      "\u001b[0;36m  File \u001b[0;32m\"<ipython-input-1-8b46ddffb073>\"\u001b[0;36m, line \u001b[0;32m5\u001b[0m\n\u001b[0;31m    @given(s.integers)from jmespath import lexer\u001b[0m\n\u001b[0m                         ^\u001b[0m\n\u001b[0;31mSyntaxError\u001b[0m\u001b[0;31m:\u001b[0m invalid syntax\n"
     ]
    }
   ],
   "source": [
    "#hypothesis \n",
    "from hypothesis import given\n",
    "import hypothesis.strategies as s\n",
    "\n",
    "@given(s.integers)\n",
    "...\n"
   ]
  },
  {
   "cell_type": "code",
   "execution_count": 2,
   "metadata": {},
   "outputs": [
    {
     "ename": "ImportError",
     "evalue": "No module named 'jmespath'",
     "output_type": "error",
     "traceback": [
      "\u001b[0;31m---------------------------------------------------------------------------\u001b[0m",
      "\u001b[0;31mImportError\u001b[0m                               Traceback (most recent call last)",
      "\u001b[0;32m<ipython-input-2-dd68fd3e538b>\u001b[0m in \u001b[0;36m<module>\u001b[0;34m()\u001b[0m\n\u001b[0;32m----> 1\u001b[0;31m \u001b[0;32mfrom\u001b[0m \u001b[0mjmespath\u001b[0m \u001b[0;32mimport\u001b[0m \u001b[0mlexer\u001b[0m\u001b[0;34m\u001b[0m\u001b[0m\n\u001b[0m\u001b[1;32m      2\u001b[0m \u001b[0mlexer\u001b[0m\u001b[0;34m.\u001b[0m\u001b[0mLexer\u001b[0m\u001b[0;34m(\u001b[0m\u001b[0;34m)\u001b[0m\u001b[0;34m.\u001b[0m\u001b[0mtokenize\u001b[0m\u001b[0;34m(\u001b[0m\u001b[0;34m'foo.bar'\u001b[0m\u001b[0;34m)\u001b[0m\u001b[0;34m\u001b[0m\u001b[0m\n",
      "\u001b[0;31mImportError\u001b[0m: No module named 'jmespath'"
     ]
    }
   ],
   "source": [
    "#JMESPath\n",
    "#query language for json\n",
    "\n",
    "from jmespath import lexer\n",
    "lexer.Lexer().tokenize('foo.bar')"
   ]
  },
  {
   "cell_type": "markdown",
   "metadata": {},
   "source": [
    "Fuzz testing\n",
    " - fuzzing (testing edge case input)\n",
    " - alf supports multicore -M and -S\n",
    " - persistent mode"
   ]
  },
  {
   "cell_type": "code",
   "execution_count": 3,
   "metadata": {},
   "outputs": [
    {
     "ename": "SyntaxError",
     "evalue": "unexpected EOF while parsing (<ipython-input-3-8ffd242b893a>, line 10)",
     "output_type": "error",
     "traceback": [
      "\u001b[0;36m  File \u001b[0;32m\"<ipython-input-3-8ffd242b893a>\"\u001b[0;36m, line \u001b[0;32m10\u001b[0m\n\u001b[0;31m    if x[0] == 'b':\u001b[0m\n\u001b[0m                   ^\u001b[0m\n\u001b[0;31mSyntaxError\u001b[0m\u001b[0;31m:\u001b[0m unexpected EOF while parsing\n"
     ]
    }
   ],
   "source": [
    "#AFL american fuzzy lop\n",
    "\n",
    "def bug(x):\n",
    "    if not isinstance(x, str):\n",
    "        return\n",
    "    if not len(x) == 5:\n",
    "        return\n",
    "    if x[0] == 'b':\n",
    "        if x[0] == 'u':\n",
    "            if x[0] == 'g':\n",
    "                raise Exception('BUG!')\n",
    "                \n",
    "def main():\n",
    "    bug(sys.std.in)\n",
    "    \n",
    "import afl\n",
    "while afl.loop:\n",
    "    main()"
   ]
  },
  {
   "cell_type": "markdown",
   "metadata": {},
   "source": [
    "Stress Testing\n",
    " - Same imput - dufferent execution order due to threading\n",
    "  - example, streaming. can get it at any time, but must write sequentially\n",
    " - assert properties "
   ]
  },
  {
   "cell_type": "code",
   "execution_count": null,
   "metadata": {
    "collapsed": true
   },
   "outputs": [],
   "source": [
    "#test threads in loops"
   ]
  },
  {
   "cell_type": "markdown",
   "metadata": {},
   "source": [
    "mutation testing\n",
    " - testing the test?\n",
    " - cosmic ray\n",
    " "
   ]
  },
  {
   "cell_type": "code",
   "execution_count": null,
   "metadata": {
    "collapsed": true
   },
   "outputs": [],
   "source": [
    "def function(x, add=True):\n",
    "    if add:\n",
    "        return {'add-results': x + 1}\n",
    "    return {'add-results': x --1} #typeo, full coverage, would pass test\n",
    "\n",
    "def test_add()\n",
    "    assert function(2, True) == {'add-result': 3}\n",
    "    \n",
    "def test_subtract()\n",
    "    assert function(2, False) == {'add-result': 1}\n",
    "    \n"
   ]
  }
 ],
 "metadata": {
  "kernelspec": {
   "display_name": "Python 3",
   "language": "python",
   "name": "python3"
  },
  "language_info": {
   "codemirror_mode": {
    "name": "ipython",
    "version": 3
   },
   "file_extension": ".py",
   "mimetype": "text/x-python",
   "name": "python",
   "nbconvert_exporter": "python",
   "pygments_lexer": "ipython3",
   "version": "3.4.3"
  }
 },
 "nbformat": 4,
 "nbformat_minor": 2
}
