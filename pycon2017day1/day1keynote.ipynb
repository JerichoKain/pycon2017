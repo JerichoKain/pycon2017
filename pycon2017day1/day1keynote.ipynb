{
 "cells": [
  {
   "cell_type": "markdown",
   "metadata": {},
   "source": [
    "# Keynote\n",
    "\n",
    "the unexpected effectiveness of python in science\n",
    "Jake Vanderplas\n",
    "jakevdp"
   ]
  },
  {
   "cell_type": "markdown",
   "metadata": {},
   "source": [
    "http://spacetelescope.org\n",
    "http://sdss.org\n",
    "http://www.lsst.org/scientist/book\n",
    "compiled from NASA ADS\n",
    "\n",
    "\n",
    "speed of development is primary and the speed of execution is secondary\n",
    "why don't you commute by airplane instead of by car, it is so much faster\n",
    "ada twist, scientist\n",
    "\n",
    "altairdemo - youtube\n",
    "\n",
    "an article about computational results is advertising, not scholarship.\n",
    "donoho\n",
    "\n",
    "BDFL resolves conflicts.\n",
    "\n"
   ]
  }
 ],
 "metadata": {
  "kernelspec": {
   "display_name": "Python 3",
   "language": "python",
   "name": "python3"
  },
  "language_info": {
   "codemirror_mode": {
    "name": "ipython",
    "version": 3
   },
   "file_extension": ".py",
   "mimetype": "text/x-python",
   "name": "python",
   "nbconvert_exporter": "python",
   "pygments_lexer": "ipython3",
   "version": "3.4.3"
  }
 },
 "nbformat": 4,
 "nbformat_minor": 2
}
