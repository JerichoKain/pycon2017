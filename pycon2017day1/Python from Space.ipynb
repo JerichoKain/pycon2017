{
 "cells": [
  {
   "cell_type": "markdown",
   "metadata": {},
   "source": [
    "# Python from Space\n",
    "Analyzing Open satelite Imagery using the python ecosystem - Katherin Scott\n",
    "\n",
    "http://github.com/kscottz/PythonFromSpace\n",
    "Planet\n",
    "\n",
    "Why should you care about satellite imagery?\n",
    " - post truth world\n",
    " - lots of free data available\n",
    " - and free for non-commercial purposes.\n",
    " \n",
    "lingo - \n",
    "remote sensing\n",
    "orth-rectification\n",
    "nadir angle\n",
    "raster and vector\n",
    "\n",
    "\n",
    "Get space images and make a timelapes gif\n",
    "\n",
    "use open street mapes\n",
    "\n",
    "make a video\n"
   ]
  },
  {
   "cell_type": "code",
   "execution_count": null,
   "metadata": {
    "collapsed": true
   },
   "outputs": [],
   "source": []
  }
 ],
 "metadata": {
  "kernelspec": {
   "display_name": "Python 3",
   "language": "python",
   "name": "python3"
  },
  "language_info": {
   "codemirror_mode": {
    "name": "ipython",
    "version": 3
   },
   "file_extension": ".py",
   "mimetype": "text/x-python",
   "name": "python",
   "nbconvert_exporter": "python",
   "pygments_lexer": "ipython3",
   "version": "3.4.3"
  }
 },
 "nbformat": 4,
 "nbformat_minor": 2
}
