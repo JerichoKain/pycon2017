{
 "cells": [
  {
   "cell_type": "markdown",
   "metadata": {},
   "source": [
    "# Requests under the hood\n",
    "cory benfield\n",
    "\n",
    "Should I use a proxy?\n",
    " - network reasons no\n",
    " - (environment variable) host no_proxy string.\n",
    " - \"do what curl does\", or \"fix this problem for this user at this time\"\n",
    " - are there tests if it is design by pull request\n",
    " \n",
    "How do I Know if I Have IPv6 Support?\n",
    " - Ask the kernel? (lots of problems)\n",
    " - so you do it yourself.\n",
    " - def _has_ipv6:\n",
    " - HAS_IPV6 = _has_ipv6('::1') on every import\n",
    " - TODO - refactor never gets done\n",
    " \n",
    " \n",
    "How long is this file?\n",
    " - def super_len(o):\n",
    " \n",
    "Redirects?\n",
    " - goal, try to copy what browsers do\n",
    " - no single commit is to blame, they are all to blame together\n",
    " - intended vs emergent behavior. \n",
    "\n",
    "find urllib3\n",
    " \n",
    " \n"
   ]
  },
  {
   "cell_type": "code",
   "execution_count": 1,
   "metadata": {},
   "outputs": [
    {
     "name": "stdout",
     "output_type": "stream",
     "text": [
      "1.81 µs ± 1.81 ns per loop (mean ± std. dev. of 7 runs, 100000 loops each)\n"
     ]
    }
   ],
   "source": [
    "%%timeit\n",
    "import urllib.request"
   ]
  },
  {
   "cell_type": "code",
   "execution_count": null,
   "metadata": {
    "collapsed": true
   },
   "outputs": [],
   "source": []
  }
 ],
 "metadata": {
  "kernelspec": {
   "display_name": "Python 3",
   "language": "python",
   "name": "python3"
  },
  "language_info": {
   "codemirror_mode": {
    "name": "ipython",
    "version": 3
   },
   "file_extension": ".py",
   "mimetype": "text/x-python",
   "name": "python",
   "nbconvert_exporter": "python",
   "pygments_lexer": "ipython3",
   "version": "3.4.3"
  }
 },
 "nbformat": 4,
 "nbformat_minor": 2
}
