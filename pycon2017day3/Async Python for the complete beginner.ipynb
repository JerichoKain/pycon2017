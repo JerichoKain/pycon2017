{
 "cells": [
  {
   "cell_type": "markdown",
   "metadata": {},
   "source": [
    "# Async Python for the complete beginner\n",
    "Miguel Grinberg\n",
    "\n",
    "ways to suspend and resume\n",
    "- callbacks\n",
    "- generators\n",
    "- async/await (3.5+)\n",
    "- greenlets (3rd party)\n",
    "\n",
    "event loop required\n",
    "- \"cooperative multi-tasking\"\n",
    "\n",
    "https://bit.ly/asyncpython\n",
    "\n",
    "async pitfalls\n",
    "- long CPU-intensive tasks must regularly release the CPU\n",
    "- this can be done by \"sleeping\" once per loop\n",
    "- to tell the loop to return controll back as soon as possible, sleep for 0\n",
    "- ie (await asynci0.sleep(0) )\n",
    "- and std python lib has blocking functions \n",
    "  - `socket.*`\n",
    "  - `select.*`\n",
    "  - `subprocess.*`\n",
    "  - `os.waitpd`\n",
    "  - `threading.*`\n",
    "  - `multiprocessing.*`\n",
    "  - `time.sleep`\n",
    "- async fraomewoorks provide non-blocking replacements\n",
    "- Eventlet and gevent \"monkey-patch\" the std lib\n",
    "\n"
   ]
  },
  {
   "cell_type": "code",
   "execution_count": null,
   "metadata": {
    "collapsed": true
   },
   "outputs": [],
   "source": []
  }
 ],
 "metadata": {
  "kernelspec": {
   "display_name": "Python 3",
   "language": "python",
   "name": "python3"
  },
  "language_info": {
   "codemirror_mode": {
    "name": "ipython",
    "version": 3
   },
   "file_extension": ".py",
   "mimetype": "text/x-python",
   "name": "python",
   "nbconvert_exporter": "python",
   "pygments_lexer": "ipython3",
   "version": "3.4.3"
  }
 },
 "nbformat": 4,
 "nbformat_minor": 2
}
