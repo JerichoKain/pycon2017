{
 "cells": [
  {
   "cell_type": "markdown",
   "metadata": {},
   "source": [
    "# string concatenation"
   ]
  },
  {
   "cell_type": "code",
   "execution_count": 1,
   "metadata": {
    "collapsed": true
   },
   "outputs": [],
   "source": [
    "s = ''\n",
    "for x in range(1000):\n",
    "    s += 'a'"
   ]
  },
  {
   "cell_type": "code",
   "execution_count": 2,
   "metadata": {
    "collapsed": true
   },
   "outputs": [],
   "source": [
    "s2 = ''.join(['a' for _ in range(1000)])"
   ]
  },
  {
   "cell_type": "code",
   "execution_count": 3,
   "metadata": {},
   "outputs": [
    {
     "data": {
      "text/plain": [
       "True"
      ]
     },
     "execution_count": 3,
     "metadata": {},
     "output_type": "execute_result"
    }
   ],
   "source": [
    "s == s2"
   ]
  },
  {
   "cell_type": "code",
   "execution_count": 4,
   "metadata": {
    "collapsed": true
   },
   "outputs": [],
   "source": [
    "s3 = 1000 * 'a'"
   ]
  },
  {
   "cell_type": "code",
   "execution_count": 5,
   "metadata": {},
   "outputs": [
    {
     "data": {
      "text/plain": [
       "True"
      ]
     },
     "execution_count": 5,
     "metadata": {},
     "output_type": "execute_result"
    }
   ],
   "source": [
    "s == s3"
   ]
  },
  {
   "cell_type": "markdown",
   "metadata": {},
   "source": [
    "# List vs Generated Expressions"
   ]
  },
  {
   "cell_type": "code",
   "execution_count": 6,
   "metadata": {
    "collapsed": true
   },
   "outputs": [],
   "source": [
    "n = int(1e7)"
   ]
  },
  {
   "cell_type": "code",
   "execution_count": 7,
   "metadata": {},
   "outputs": [
    {
     "name": "stdout",
     "output_type": "stream",
     "text": [
      "3.03 s ± 48.2 ms per loop (mean ± std. dev. of 7 runs, 1 loop each)\n"
     ]
    }
   ],
   "source": [
    "%timeit sum([x * x for x in range(n)])"
   ]
  },
  {
   "cell_type": "code",
   "execution_count": 8,
   "metadata": {},
   "outputs": [
    {
     "name": "stdout",
     "output_type": "stream",
     "text": [
      "2.9 s ± 29.1 ms per loop (mean ± std. dev. of 7 runs, 1 loop each)\n"
     ]
    }
   ],
   "source": [
    "%timeit sum(x * x for x in range(n))"
   ]
  },
  {
   "cell_type": "markdown",
   "metadata": {},
   "source": [
    "# Globals vs Locals"
   ]
  },
  {
   "cell_type": "code",
   "execution_count": 9,
   "metadata": {},
   "outputs": [
    {
     "name": "stdout",
     "output_type": "stream",
     "text": [
      "\u001b[0m\u001b[01;34malgorithms\u001b[0m/  Faster1.ipynb  \u001b[01;34mlib\u001b[0m/                profiling.pdf\r\n",
      "\u001b[01;34mbin\u001b[0m/         Faster2.ipynb  \u001b[01;34mmeasuring\u001b[0m/          profiling_presentation.pdf\r\n",
      "\u001b[01;34mcaching\u001b[0m/     \u001b[01;31mfaster.zip\u001b[0m     \u001b[01;34mpi\u001b[0m/                 \u001b[01;34mshare\u001b[0m/\r\n",
      "Fast3.ipynb  \u001b[01;34minclude\u001b[0m/       pip-selfcheck.json\r\n"
     ]
    }
   ],
   "source": [
    "ls"
   ]
  },
  {
   "cell_type": "code",
   "execution_count": 10,
   "metadata": {},
   "outputs": [
    {
     "name": "stdout",
     "output_type": "stream",
     "text": [
      "/home/mark/Projects/jupyter/pycon2017t1/algorithms\n"
     ]
    }
   ],
   "source": [
    "cd algorithms/"
   ]
  },
  {
   "cell_type": "code",
   "execution_count": 11,
   "metadata": {},
   "outputs": [
    {
     "name": "stdout",
     "output_type": "stream",
     "text": [
      "         6 function calls in 13.510 seconds\n",
      "\n",
      "   Ordered by: standard name\n",
      "\n",
      "   ncalls  tottime  percall  cumtime  percall filename:lineno(function)\n",
      "        1    7.330    7.330    7.330    7.330 <ipython-input-11-481cb3174aa3>:15(repeat)\n",
      "        1    6.180    6.180    6.180    6.180 <ipython-input-11-481cb3174aa3>:22(repeat_local)\n",
      "        1    0.000    0.000   13.510   13.510 <ipython-input-11-481cb3174aa3>:30(test)\n",
      "        1    0.000    0.000   13.510   13.510 <string>:1(<module>)\n",
      "        1    0.000    0.000   13.510   13.510 {built-in method exec}\n",
      "        1    0.000    0.000    0.000    0.000 {method 'disable' of '_lsprof.Profiler' objects}\n",
      "\n",
      "\n"
     ]
    }
   ],
   "source": [
    "# %load local_global.py\n",
    "# file: local_global.py\n",
    "\n",
    "\"\"\"Local vs. built-in.\n",
    "\"\"\"\n",
    "\n",
    "import sys\n",
    "\n",
    "if sys.version_info.major < 3:\n",
    "    range = xrange\n",
    "\n",
    "GLOBAL = 1\n",
    "\n",
    "\n",
    "def repeat(counter):\n",
    "    \"\"\"Using the GLOBAL value directly.\n",
    "    \"\"\"\n",
    "    for count in range(counter):\n",
    "        GLOBAL\n",
    "\n",
    "\n",
    "def repeat_local(counter):\n",
    "    \"\"\"Making GLOBAL a local variable.\n",
    "    \"\"\"\n",
    "    local = GLOBAL\n",
    "    for count in range(counter):\n",
    "        local\n",
    "\n",
    "\n",
    "def test(counter):\n",
    "    \"\"\"Call both functions.\n",
    "    \"\"\"\n",
    "    repeat(counter)\n",
    "    repeat_local(counter)\n",
    "\n",
    "\n",
    "if __name__ == '__main__':\n",
    "\n",
    "    def do_profile():\n",
    "        \"\"\"Check the run times.\n",
    "        \"\"\"\n",
    "        import cProfile\n",
    "        profiler = cProfile.Profile()\n",
    "        profiler.run('test(int(1e8))')\n",
    "        profiler.print_stats()\n",
    "\n",
    "    do_profile()\n"
   ]
  },
  {
   "cell_type": "code",
   "execution_count": 14,
   "metadata": {},
   "outputs": [
    {
     "name": "stdout",
     "output_type": "stream",
     "text": [
      "         6 function calls in 14.358 seconds\n",
      "\n",
      "   Ordered by: standard name\n",
      "\n",
      "   ncalls  tottime  percall  cumtime  percall filename:lineno(function)\n",
      "        1    8.313    8.313    8.313    8.313 <ipython-input-14-fc05ecdaabe3>:11(repeat)\n",
      "        1    6.044    6.044    6.044    6.044 <ipython-input-14-fc05ecdaabe3>:18(repeat_local)\n",
      "        1    0.000    0.000   14.358   14.358 <ipython-input-14-fc05ecdaabe3>:26(test)\n",
      "        1    0.000    0.000   14.358   14.358 <string>:1(<module>)\n",
      "        1    0.000    0.000   14.358   14.358 {built-in method exec}\n",
      "        1    0.000    0.000    0.000    0.000 {method 'disable' of '_lsprof.Profiler' objects}\n",
      "\n",
      "\n"
     ]
    }
   ],
   "source": [
    "# %load local_builtin.py\n",
    "\"\"\"Local vs. built-in.\n",
    "\"\"\"\n",
    "\n",
    "import sys\n",
    "\n",
    "if sys.version_info.major < 3:\n",
    "    range = xrange\n",
    "\n",
    "\n",
    "def repeat(counter):\n",
    "    \"\"\"Using the built-in `sum` in a loop.\n",
    "    \"\"\"\n",
    "    for count in range(counter):\n",
    "        sum\n",
    "\n",
    "\n",
    "def repeat_local(counter):\n",
    "    \"\"\"Making `sum` a local variable.\n",
    "    \"\"\"\n",
    "    sum_ = sum\n",
    "    for count in range(counter):\n",
    "        sum_\n",
    "\n",
    "\n",
    "def test(counter):\n",
    "    \"\"\"Call both functions.\n",
    "    \"\"\"\n",
    "    repeat(counter)\n",
    "    repeat_local(counter)\n",
    "\n",
    "\n",
    "if __name__ == '__main__':\n",
    "\n",
    "    def do_profile():\n",
    "        \"\"\"Check the run times.\n",
    "        \"\"\"\n",
    "        import cProfile\n",
    "        profiler = cProfile.Profile()\n",
    "        profiler.run('test(int(1e8))')\n",
    "        profiler.print_stats()\n",
    "\n",
    "    do_profile()\n"
   ]
  },
  {
   "cell_type": "markdown",
   "metadata": {},
   "source": [
    "# Data Structures"
   ]
  },
  {
   "cell_type": "code",
   "execution_count": 1,
   "metadata": {
    "collapsed": true
   },
   "outputs": [],
   "source": [
    "import random"
   ]
  },
  {
   "cell_type": "code",
   "execution_count": 2,
   "metadata": {
    "collapsed": true
   },
   "outputs": [],
   "source": [
    "n = int(10**6)\n",
    "L = list(range(n))\n",
    "target = 'target'\n",
    "L[n // 2] = target\n",
    "S = set(L)"
   ]
  },
  {
   "cell_type": "code",
   "execution_count": 3,
   "metadata": {},
   "outputs": [
    {
     "name": "stdout",
     "output_type": "stream",
     "text": [
      "28.9 ms ± 346 µs per loop (mean ± std. dev. of 7 runs, 10 loops each)\n"
     ]
    }
   ],
   "source": [
    "%timeit target in L"
   ]
  },
  {
   "cell_type": "code",
   "execution_count": 4,
   "metadata": {},
   "outputs": [
    {
     "name": "stdout",
     "output_type": "stream",
     "text": [
      "93.2 ns ± 0.318 ns per loop (mean ± std. dev. of 7 runs, 10000000 loops each)\n"
     ]
    }
   ],
   "source": [
    "%timeit target in S"
   ]
  },
  {
   "cell_type": "markdown",
   "metadata": {},
   "source": [
    "# Deque"
   ]
  },
  {
   "cell_type": "code",
   "execution_count": 1,
   "metadata": {
    "collapsed": true
   },
   "outputs": [],
   "source": [
    "from collections import deque"
   ]
  },
  {
   "cell_type": "code",
   "execution_count": 2,
   "metadata": {
    "collapsed": true
   },
   "outputs": [],
   "source": [
    "deque?"
   ]
  },
  {
   "cell_type": "code",
   "execution_count": 12,
   "metadata": {},
   "outputs": [
    {
     "data": {
      "text/plain": [
       "[2, 3, 4, 5, 6, 7, 8, 9, 10]"
      ]
     },
     "execution_count": 12,
     "metadata": {},
     "output_type": "execute_result"
    }
   ],
   "source": [
    "L = list(range(2, 11))\n",
    "L"
   ]
  },
  {
   "cell_type": "code",
   "execution_count": 13,
   "metadata": {},
   "outputs": [
    {
     "data": {
      "text/plain": [
       "deque([2, 3, 4, 5, 6, 7, 8, 9, 10])"
      ]
     },
     "execution_count": 13,
     "metadata": {},
     "output_type": "execute_result"
    }
   ],
   "source": [
    "d = deque(L)\n",
    "d"
   ]
  },
  {
   "cell_type": "code",
   "execution_count": 5,
   "metadata": {},
   "outputs": [
    {
     "data": {
      "text/plain": [
       "deque([6, 7, 8, 9, 10, 2, 3, 4, 5])"
      ]
     },
     "execution_count": 5,
     "metadata": {},
     "output_type": "execute_result"
    }
   ],
   "source": [
    "d.rotate(5)\n",
    "d"
   ]
  },
  {
   "cell_type": "code",
   "execution_count": 6,
   "metadata": {
    "collapsed": true
   },
   "outputs": [],
   "source": [
    "def remove_list(L, s, e):\n",
    "    L[s:e] = []"
   ]
  },
  {
   "cell_type": "code",
   "execution_count": 7,
   "metadata": {
    "collapsed": true
   },
   "outputs": [],
   "source": [
    "def remove_deque(D, s, e):\n",
    "    D.rotate(-e)\n",
    "    for count in range(e-s):\n",
    "        D.pop()\n",
    "    D.rotate(s)"
   ]
  },
  {
   "cell_type": "code",
   "execution_count": 14,
   "metadata": {},
   "outputs": [
    {
     "data": {
      "text/plain": [
       "[2, 3, 7, 8, 9, 10]"
      ]
     },
     "execution_count": 14,
     "metadata": {},
     "output_type": "execute_result"
    }
   ],
   "source": [
    "remove_list(L, 2, 5)\n",
    "L"
   ]
  },
  {
   "cell_type": "code",
   "execution_count": 15,
   "metadata": {},
   "outputs": [
    {
     "data": {
      "text/plain": [
       "deque([2, 3, 7, 8, 9, 10])"
      ]
     },
     "execution_count": 15,
     "metadata": {},
     "output_type": "execute_result"
    }
   ],
   "source": [
    "remove_deque(d, 2, 5)\n",
    "d"
   ]
  },
  {
   "cell_type": "code",
   "execution_count": 20,
   "metadata": {},
   "outputs": [],
   "source": [
    "L = list(range(10**6))\n",
    "D = deque(L)"
   ]
  },
  {
   "cell_type": "code",
   "execution_count": 21,
   "metadata": {},
   "outputs": [
    {
     "name": "stdout",
     "output_type": "stream",
     "text": [
      "1.43 ms ± 0 ns per loop (mean ± std. dev. of 1 run, 1 loop each)\n",
      "10.7 µs ± 0 ns per loop (mean ± std. dev. of 1 run, 1 loop each)\n"
     ]
    }
   ],
   "source": [
    "%timeit -n 1 -r 1 remove_list(L, 2, 5)\n",
    "%timeit -n 1 -r 1 remove_deque(D, 2, 5)\n",
    "#take home - speed might depend on the data."
   ]
  },
  {
   "cell_type": "code",
   "execution_count": 22,
   "metadata": {},
   "outputs": [
    {
     "data": {
      "text/plain": [
       "'/home/mark/Projects/jupyter/pycon2017t1/bin/python'"
      ]
     },
     "execution_count": 22,
     "metadata": {},
     "output_type": "execute_result"
    }
   ],
   "source": []
  },
  {
   "cell_type": "code",
   "execution_count": null,
   "metadata": {
    "collapsed": true
   },
   "outputs": [],
   "source": []
  }
 ],
 "metadata": {
  "kernelspec": {
   "display_name": "pycon2017t1",
   "language": "python",
   "name": "pycon2017t1"
  },
  "language_info": {
   "codemirror_mode": {
    "name": "ipython",
    "version": 3
   },
   "file_extension": ".py",
   "mimetype": "text/x-python",
   "name": "python",
   "nbconvert_exporter": "python",
   "pygments_lexer": "ipython3",
   "version": "3.4.3"
  }
 },
 "nbformat": 4,
 "nbformat_minor": 2
}
