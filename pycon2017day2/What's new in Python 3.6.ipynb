{
 "cells": [
  {
   "cell_type": "markdown",
   "metadata": {},
   "source": [
    "# What's new in Python 3.6\n",
    "Brett Cannon\n",
    "\n",
    "https://docs.python.org/3.6/whatsnew/3.6html\n",
    "\n",
    "16 pep: https://www.python.org/dev/peps\n"
   ]
  },
  {
   "cell_type": "code",
   "execution_count": 2,
   "metadata": {},
   "outputs": [
    {
     "name": "stdout",
     "output_type": "stream",
     "text": [
      "['a', 'c', 'b']\n"
     ]
    }
   ],
   "source": [
    "#pep 468: Preserving keyword argument order\n",
    "def pep468(**kwargs):\n",
    "    print(list(kwargs.keys()))\n",
    "    \n",
    "pep468(a=1, b=2, c=3)"
   ]
  },
  {
   "cell_type": "code",
   "execution_count": 3,
   "metadata": {},
   "outputs": [
    {
     "ename": "SyntaxError",
     "evalue": "invalid syntax (<ipython-input-3-d6a6fa314ab0>, line 1)",
     "output_type": "error",
     "traceback": [
      "\u001b[0;36m  File \u001b[0;32m\"<ipython-input-3-d6a6fa314ab0>\"\u001b[0;36m, line \u001b[0;32m1\u001b[0m\n\u001b[0;31m    pep 487\u001b[0m\n\u001b[0m          ^\u001b[0m\n\u001b[0;31mSyntaxError\u001b[0m\u001b[0;31m:\u001b[0m invalid syntax\n"
     ]
    }
   ],
   "source": [
    "#pep 487 - simpler customization of class creation\n",
    "class PEP487:\n",
    "    def __init_subclass__(cls, whom, **kwargs):\n",
    "        super().__init_subclass__(**kwargs)\n",
    "        cls.hello = lambda: print(f\" hello, {whom}\")\n"
   ]
  },
  {
   "cell_type": "code",
   "execution_count": 4,
   "metadata": {},
   "outputs": [
    {
     "ename": "NameError",
     "evalue": "name 'datetime' is not defined",
     "output_type": "error",
     "traceback": [
      "\u001b[0;31m---------------------------------------------------------------------------\u001b[0m",
      "\u001b[0;31mNameError\u001b[0m                                 Traceback (most recent call last)",
      "\u001b[0;32m<ipython-input-4-dceaebd2de12>\u001b[0m in \u001b[0;36m<module>\u001b[0;34m()\u001b[0m\n\u001b[1;32m      1\u001b[0m \u001b[0;31m#PEP 495 - local time disambiguation\u001b[0m\u001b[0;34m\u001b[0m\u001b[0;34m\u001b[0m\u001b[0m\n\u001b[0;32m----> 2\u001b[0;31m \u001b[0mdt\u001b[0m \u001b[0;34m=\u001b[0m \u001b[0mdatetime\u001b[0m\u001b[0;34m.\u001b[0m\u001b[0mdatetime\u001b[0m\u001b[0;34m(\u001b[0m\u001b[0;36m2016\u001b[0m\u001b[0;34m,\u001b[0m \u001b[0;36m11\u001b[0m\u001b[0;34m,\u001b[0m \u001b[0;36m6\u001b[0m\u001b[0;34m,\u001b[0m \u001b[0;36m1\u001b[0m\u001b[0;34m,\u001b[0m \u001b[0;36m30\u001b[0m\u001b[0;34m)\u001b[0m\u001b[0;34m\u001b[0m\u001b[0m\n\u001b[0m\u001b[1;32m      3\u001b[0m \u001b[0mpdt\u001b[0m \u001b[0;34m=\u001b[0m \u001b[0mdt\u001b[0m\u001b[0;34m.\u001b[0m\u001b[0mastimezone\u001b[0m\u001b[0;34m(\u001b[0m\u001b[0;34m)\u001b[0m\u001b[0;34m\u001b[0m\u001b[0m\n\u001b[1;32m      4\u001b[0m \u001b[0mpst\u001b[0m \u001b[0;34m=\u001b[0m \u001b[0mdt\u001b[0m\u001b[0;34m.\u001b[0m\u001b[0mreplace\u001b[0m\u001b[0;34m(\u001b[0m\u001b[0mfold\u001b[0m\u001b[0;34m=\u001b[0m\u001b[0;36m1\u001b[0m\u001b[0;34m)\u001b[0m\u001b[0;34m.\u001b[0m\u001b[0mastimezone\u001b[0m\u001b[0;34m(\u001b[0m\u001b[0;34m)\u001b[0m\u001b[0;34m\u001b[0m\u001b[0m\n",
      "\u001b[0;31mNameError\u001b[0m: name 'datetime' is not defined"
     ]
    }
   ],
   "source": [
    "#PEP 495 - local time disambiguation\n",
    "dt = datetime.datetime(2016, 11, 6, 1, 30)\n",
    "pdt = dt.astimezone()\n",
    "pst = dt.replace(fold=1).astimezone()"
   ]
  },
  {
   "cell_type": "code",
   "execution_count": 5,
   "metadata": {},
   "outputs": [
    {
     "ename": "SyntaxError",
     "evalue": "invalid syntax (<ipython-input-5-8487c9e7d744>, line 4)",
     "output_type": "error",
     "traceback": [
      "\u001b[0;36m  File \u001b[0;32m\"<ipython-input-5-8487c9e7d744>\"\u001b[0;36m, line \u001b[0;32m4\u001b[0m\n\u001b[0;31m    f\"Hellp, {whom}! wlecome to {where!r}.\"\u001b[0m\n\u001b[0m                                          ^\u001b[0m\n\u001b[0;31mSyntaxError\u001b[0m\u001b[0;31m:\u001b[0m invalid syntax\n"
     ]
    }
   ],
   "source": [
    "#pep 498 - fromatted string literals\n",
    "whom = \"pycon ca\"\n",
    "where = \"toronto\", \"on\", \"canada\"\n",
    "f\"Hellp, {whom}! wlecome to {where!r}.\""
   ]
  },
  {
   "cell_type": "markdown",
   "metadata": {},
   "source": [
    "pep 506/524 - adding a secret module & os.urandom() blocks\n",
    "\n",
    "pep 506\n",
    " - use the secrets module for anything security or crypto related\n",
    " - uses randome from modeling and msimulation\n",
    " \n",
    "pep 524\n",
    " - in py3.5.0 os.urandom() will block until there enough entropy\n",
    " - in py3.5.2 os.urandom() will fall back to /dev/urandom if the clal would block\n",
    " - in py3.6 os.urandom() does back to 3.5.0 semantics\n",
    " - the new os.getrandom() raises an exception if it would block\n",
    " "
   ]
  },
  {
   "cell_type": "markdown",
   "metadata": {},
   "source": [
    "pep 509: adding a private version to dict\n",
    "    \n",
    "99% of you will not directly care avoutr this\n",
    "dict no have version ID that's only accessible from c code\n",
    "- meant as a monitor to detect when nameslace\n",
    "- \n"
   ]
  },
  {
   "cell_type": "code",
   "execution_count": 6,
   "metadata": {},
   "outputs": [
    {
     "ename": "SyntaxError",
     "evalue": "invalid syntax (<ipython-input-6-6ba6cdb2393e>, line 2)",
     "output_type": "error",
     "traceback": [
      "\u001b[0;36m  File \u001b[0;32m\"<ipython-input-6-6ba6cdb2393e>\"\u001b[0;36m, line \u001b[0;32m2\u001b[0m\n\u001b[0;31m    one_billion - 1_000_000_000\u001b[0m\n\u001b[0m                              ^\u001b[0m\n\u001b[0;31mSyntaxError\u001b[0m\u001b[0;31m:\u001b[0m invalid syntax\n"
     ]
    }
   ],
   "source": [
    "#pep 515 - underscores in numeric literals\n",
    "one_billion - 1_000_000_000\n",
    "black = 0x_FF_FF_FF_FF"
   ]
  },
  {
   "cell_type": "code",
   "execution_count": 7,
   "metadata": {},
   "outputs": [
    {
     "ename": "NameError",
     "evalue": "name 'os' is not defined",
     "output_type": "error",
     "traceback": [
      "\u001b[0;31m---------------------------------------------------------------------------\u001b[0m",
      "\u001b[0;31mNameError\u001b[0m                                 Traceback (most recent call last)",
      "\u001b[0;32m<ipython-input-7-11741e8239b3>\u001b[0m in \u001b[0;36m<module>\u001b[0;34m()\u001b[0m\n\u001b[1;32m      1\u001b[0m \u001b[0;31m#pep 519 - adding a file system path protocol\u001b[0m\u001b[0;34m\u001b[0m\u001b[0;34m\u001b[0m\u001b[0m\n\u001b[0;32m----> 2\u001b[0;31m \u001b[0mos\u001b[0m\u001b[0;34m.\u001b[0m\u001b[0mpath\u001b[0m\u001b[0;34m.\u001b[0m\u001b[0mexists\u001b[0m\u001b[0;34m(\u001b[0m\u001b[0mpathlib\u001b[0m\u001b[0;34m.\u001b[0m\u001b[0mPath\u001b[0m\u001b[0;34m(\u001b[0m\u001b[0;34m\"What's new in python 3.6.pptx\"\u001b[0m\u001b[0;34m)\u001b[0m\u001b[0;34m)\u001b[0m\u001b[0;34m\u001b[0m\u001b[0m\n\u001b[0m\u001b[1;32m      3\u001b[0m \u001b[0;34m\u001b[0m\u001b[0m\n\u001b[1;32m      4\u001b[0m \u001b[0;32mclass\u001b[0m \u001b[0mPathy\u001b[0m\u001b[0;34m(\u001b[0m\u001b[0mos\u001b[0m\u001b[0;34m.\u001b[0m\u001b[0mPathLink\u001b[0m\u001b[0;34m)\u001b[0m\u001b[0;34m:\u001b[0m\u001b[0;34m\u001b[0m\u001b[0m\n\u001b[1;32m      5\u001b[0m     \u001b[0;32mdef\u001b[0m \u001b[0m__fspath__\u001b[0m\u001b[0;34m(\u001b[0m\u001b[0mself\u001b[0m\u001b[0;34m)\u001b[0m \u001b[0;34m->\u001b[0m \u001b[0mUnion\u001b[0m\u001b[0;34m[\u001b[0m\u001b[0mstr\u001b[0m\u001b[0;34m,\u001b[0m \u001b[0mbytes\u001b[0m\u001b[0;34m]\u001b[0m\u001b[0;34m:\u001b[0m\u001b[0;34m\u001b[0m\u001b[0m\n",
      "\u001b[0;31mNameError\u001b[0m: name 'os' is not defined"
     ]
    }
   ],
   "source": [
    "#pep 519 - adding a file system path protocol\n",
    "os.path.exists(pathlib.Path(\"What's new in python 3.6.pptx\"))\n",
    "\n",
    "class Pathy(os.PathLink):\n",
    "    def __fspath__(self) -> Union[str, bytes]:\n",
    "        return path_repr\n"
   ]
  },
  {
   "cell_type": "code",
   "execution_count": 8,
   "metadata": {},
   "outputs": [
    {
     "ename": "NameError",
     "evalue": "name 'PrderPreserved' is not defined",
     "output_type": "error",
     "traceback": [
      "\u001b[0;31m---------------------------------------------------------------------------\u001b[0m",
      "\u001b[0;31mNameError\u001b[0m                                 Traceback (most recent call last)",
      "\u001b[0;32m<ipython-input-8-9604550945f8>\u001b[0m in \u001b[0;36m<module>\u001b[0;34m()\u001b[0m\n\u001b[1;32m      7\u001b[0m         \u001b[0;32mpass\u001b[0m\u001b[0;34m\u001b[0m\u001b[0m\n\u001b[1;32m      8\u001b[0m \u001b[0;34m\u001b[0m\u001b[0m\n\u001b[0;32m----> 9\u001b[0;31m \u001b[0mlist\u001b[0m\u001b[0;34m(\u001b[0m\u001b[0mPrderPreserved\u001b[0m\u001b[0;34m.\u001b[0m\u001b[0m__dict__\u001b[0m\u001b[0;34m)\u001b[0m\u001b[0;34m\u001b[0m\u001b[0m\n\u001b[0m",
      "\u001b[0;31mNameError\u001b[0m: name 'PrderPreserved' is not defined"
     ]
    }
   ],
   "source": [
    "#pep 520 - preserving class attribute definition order\n",
    "\n",
    "class OrderPreserved:\n",
    "    a = 1\n",
    "    b = 2\n",
    "    def meth(self):\n",
    "        pass\n",
    "    \n",
    "list(PrderPreserved.__dict__)"
   ]
  },
  {
   "cell_type": "markdown",
   "metadata": {},
   "source": [
    "pep 523 - adding a frame evaluation API to cpython\n",
    "- 99% won't care about this either\n",
    "only it you are writing a JIT, debugger, or profiler will you care\n",
    "there is now a C api that allows for specifying an alternative frame evaluation function\n",
    "PyEval_EvalFrameEx() is essentiaonnl pluiggable\n",
    "there is also now an API to store data on code objects\n"
   ]
  },
  {
   "cell_type": "code",
   "execution_count": 9,
   "metadata": {},
   "outputs": [
    {
     "ename": "SyntaxError",
     "evalue": "invalid syntax (<ipython-input-9-096a5c71e19a>, line 2)",
     "output_type": "error",
     "traceback": [
      "\u001b[0;36m  File \u001b[0;32m\"<ipython-input-9-096a5c71e19a>\"\u001b[0;36m, line \u001b[0;32m2\u001b[0m\n\u001b[0;31m    async def ticker(delay, to):\u001b[0m\n\u001b[0m            ^\u001b[0m\n\u001b[0;31mSyntaxError\u001b[0m\u001b[0;31m:\u001b[0m invalid syntax\n"
     ]
    }
   ],
   "source": [
    "#pep 525/530 - Async denerators & comprehensions\n",
    "async def ticker(delay, to):\n",
    "    for i in range(to)\n",
    "    yield i\n",
    "    await asyncio.sleep(delay)\n",
    "    \n",
    "async def async_comprehension():\n",
    "    come_with_asucn[i async for i in aiter()]"
   ]
  },
  {
   "cell_type": "code",
   "execution_count": 10,
   "metadata": {},
   "outputs": [
    {
     "ename": "SyntaxError",
     "evalue": "invalid syntax (<ipython-input-10-80da0ea367fa>, line 4)",
     "output_type": "error",
     "traceback": [
      "\u001b[0;36m  File \u001b[0;32m\"<ipython-input-10-80da0ea367fa>\"\u001b[0;36m, line \u001b[0;32m4\u001b[0m\n\u001b[0;31m    module_level: str = \"see __annotations__\"\u001b[0m\n\u001b[0m                ^\u001b[0m\n\u001b[0;31mSyntaxError\u001b[0m\u001b[0;31m:\u001b[0m invalid syntax\n"
     ]
    }
   ],
   "source": [
    "#pep 526: syntax for variable annotations\n",
    "from typing import ClassVar\n",
    "\n",
    "module_level: str = \"see __annotations__\"\n",
    "\n",
    "class Annotated:\n",
    "    ins: int #attribute does not exist because of this.\n",
    "    ins_with_defualt: str = \"see\""
   ]
  },
  {
   "cell_type": "markdown",
   "metadata": {},
   "source": [
    "#pep 528/529 - windows defaulting encoding\n",
    "repl now uses utf-8 (emoji)\n",
    "bytes-based paths are not accepted on Windows\n",
    "- sys.getfilesystemencoding() returns utf-8"
   ]
  },
  {
   "cell_type": "markdown",
   "metadata": {},
   "source": [
    "stuff not from the pep\n",
    "\n",
    "pythonmalloc\n",
    "- you can turn on/off memory debugging hooks\n",
    "you can force the use of malloc() for all memory allocations\n",
    "\n",
    "dtrace/ststemtap probing support\n",
    "- must compule using --with-dtrace\n",
    "- traces\n",
    " - functions call/return\n",
    " - GC started/finish\n",
    " - Line of code executed\n"
   ]
  },
  {
   "cell_type": "raw",
   "metadata": {},
   "source": [
    "warninged with backslash in strings\n",
    "added bytecodes for iterables\n",
    "\n",
    "benchmarks\n",
    "https://speed.python.org/\n",
    "\n",
    "499"
   ]
  }
 ],
 "metadata": {
  "kernelspec": {
   "display_name": "Python 3",
   "language": "python",
   "name": "python3"
  },
  "language_info": {
   "codemirror_mode": {
    "name": "ipython",
    "version": 3
   },
   "file_extension": ".py",
   "mimetype": "text/x-python",
   "name": "python",
   "nbconvert_exporter": "python",
   "pygments_lexer": "ipython3",
   "version": "3.4.3"
  }
 },
 "nbformat": 4,
 "nbformat_minor": 2
}
