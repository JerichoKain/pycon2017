{
 "cells": [
  {
   "cell_type": "markdown",
   "metadata": {},
   "source": [
    "# Debugging in python 3.6: Better, Faster, Stronger\n",
    "Elizaveta Shashkova\n",
    "\n",
    "Types of Debugging\n",
    " - Adding print statements\n",
    " - Logging\n",
    " - Special tools: debuggers\n",
    "\n",
    "Why do we not use debuggers?\n",
    " - Debuggers run 30 times slower\n",
    " \n",
    "### Tracing"
   ]
  },
  {
   "cell_type": "code",
   "execution_count": 2,
   "metadata": {},
   "outputs": [
    {
     "ename": "SyntaxError",
     "evalue": "invalid syntax (<ipython-input-2-f6a8d5282df7>, line 5)",
     "output_type": "error",
     "traceback": [
      "\u001b[0;36m  File \u001b[0;32m\"<ipython-input-2-f6a8d5282df7>\"\u001b[0;36m, line \u001b[0;32m5\u001b[0m\n\u001b[0;31m    def foo:\u001b[0m\n\u001b[0m           ^\u001b[0m\n\u001b[0;31mSyntaxError\u001b[0m\u001b[0;31m:\u001b[0m invalid syntax\n"
     ]
    }
   ],
   "source": [
    "def tracefunc(frame, event, argv):\n",
    "    print(frame.f_lineno, event)\n",
    "    return tracefunc\n",
    "\n",
    "def foo():\n",
    "    friends = ['bob', 'tom']\n",
    "    for f in friends:\n",
    "        print(\"hi {0}\", f)\n",
    "    return len(friends)\n",
    "\n",
    "\n",
    "sys.settrac(tracefunc)\n",
    "foo()"
   ]
  },
  {
   "cell_type": "markdown",
   "metadata": {},
   "source": [
    "breakpoints - breakpoint line_num == frame.f_lineno\n",
    "stepping - handle events for stepping\n"
   ]
  },
  {
   "cell_type": "code",
   "execution_count": null,
   "metadata": {
    "collapsed": true
   },
   "outputs": [],
   "source": [
    "def calculate():\n",
    "    sum = 0\n",
    "    for i in range(10**7):\n",
    "        sum += i\n",
    "    return sum"
   ]
  },
  {
   "cell_type": "markdown",
   "metadata": {},
   "source": [
    "performance, 25 times slower!!\n",
    "\n",
    "problem: tracing call on every line\n",
    "\n",
    "python 3.6, pep 523 - new frame evaluation API\n",
    " - handles evalutaion of frames\n",
    " - adding field "
   ]
  },
  {
   "cell_type": "code",
   "execution_count": null,
   "metadata": {
    "collapsed": true
   },
   "outputs": [],
   "source": [
    "def frame_eval(frame, exc):\n",
    "    func_name = frame.c_code.co_name\n",
    "    linenumber - frame.f_lineno\n",
    "    print(line_number, func_name)\n",
    "    return _PyEval_EvalFrameDefault(frame, exc)\n",
    "\n",
    "def set_frame_eval():\n",
    "    pass\n",
    "\n",
    "def first():\n",
    "    second()\n",
    "    \n",
    "def second():\n",
    "    third():\n",
    "        \n",
    "def third():\n",
    "    pass\n",
    "\n",
    "set_frame_eval()\n",
    "first()"
   ]
  },
  {
   "cell_type": "markdown",
   "metadata": {},
   "source": [
    "Breakpoints now:\n",
    " - access to whole code object\n",
    " - insert breakpoint's code into bytecode\n",
    " "
   ]
  },
  {
   "cell_type": "code",
   "execution_count": 5,
   "metadata": {},
   "outputs": [
    {
     "name": "stdout",
     "output_type": "stream",
     "text": [
      "  2           0 LOAD_FAST                0 (a)\n",
      "              3 LOAD_FAST                1 (b)\n",
      "              6 COMPARE_OP               4 (>)\n",
      "              9 POP_JUMP_IF_FALSE       16\n",
      "\n",
      "  4          12 LOAD_FAST                0 (a)\n",
      "             15 RETURN_VALUE\n",
      "\n",
      "  6     >>   16 LOAD_FAST                1 (b)\n",
      "             19 RETURN_VALUE\n",
      "             20 LOAD_CONST               0 (None)\n",
      "             23 RETURN_VALUE\n"
     ]
    }
   ],
   "source": [
    "def maximum(a,b):\n",
    "    if a > b:\n",
    "        #breakpoint()\n",
    "        return a\n",
    "    else:\n",
    "        return b\n",
    "\n",
    "import dis\n",
    "dis.dis(maximum)"
   ]
  },
  {
   "cell_type": "code",
   "execution_count": 6,
   "metadata": {
    "collapsed": true
   },
   "outputs": [],
   "source": [
    "#insert breakpoint code\n",
    "#update argumnets and offsets\n",
    "#~200 lines of python code\n",
    "\n",
    "def _stop_ad_breakpoint():\n",
    "    # a lot of coe here\n",
    "    pass\n",
    "\n",
    "def breakpoint():\n",
    "    _stop_at_breakpoint()\n"
   ]
  },
  {
   "cell_type": "markdown",
   "metadata": {},
   "source": [
    "stepping\n",
    " - insert temp breakpoint on every line?\n",
    " - user old tracing function\n",
    " \n",
    " \n",
    "This makes it almost as fast as runtime.\n",
    "and this was the simple case, add nested function calls and we lose improvements"
   ]
  },
  {
   "cell_type": "code",
   "execution_count": null,
   "metadata": {
    "collapsed": true
   },
   "outputs": [],
   "source": [
    "def frame_eval(frame, exc):\n",
    "    flag = _pyCode_GetExtra(frame.f.code)\n",
    "    if not flag:\n",
    "        #set frame onlye once\n",
    "    "
   ]
  },
  {
   "cell_type": "markdown",
   "metadata": {},
   "source": [
    "This is great, but there are disadvantages...\n",
    " - it is more complicated, (bytecode modification)\n",
    " - only with cpython\n",
    " - only with python 3.6\n",
    "\n",
    "originally not for debuggers...\n",
    " - pyjion project\n",
    " - JIT for python\n",
    " \n",
    "so what else can we use this for?\n",
    "\n",
    "prototype:\n",
    "http://github.com/Elizavet239/frame-eval\n",
    "pycharm community edition source code\n",
    "\n"
   ]
  },
  {
   "cell_type": "code",
   "execution_count": null,
   "metadata": {
    "collapsed": true
   },
   "outputs": [],
   "source": []
  }
 ],
 "metadata": {
  "kernelspec": {
   "display_name": "Python 3",
   "language": "python",
   "name": "python3"
  },
  "language_info": {
   "codemirror_mode": {
    "name": "ipython",
    "version": 3
   },
   "file_extension": ".py",
   "mimetype": "text/x-python",
   "name": "python",
   "nbconvert_exporter": "python",
   "pygments_lexer": "ipython3",
   "version": "3.4.3"
  }
 },
 "nbformat": 4,
 "nbformat_minor": 2
}
