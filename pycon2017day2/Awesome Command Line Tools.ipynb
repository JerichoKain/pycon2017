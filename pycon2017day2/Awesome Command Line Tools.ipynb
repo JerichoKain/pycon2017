{
 "cells": [
  {
   "cell_type": "markdown",
   "metadata": {},
   "source": [
    "# Awesome Command Line Tools\n",
    "Amjit Ramanujam\n",
    "\n",
    "Resume\n",
    " - Netflix - traffic engineer\n",
    " - https://pgcli.com\n",
    " - http://mycli.net\n",
    "\n",
    "Discoverability\n",
    " - GUI\n",
    "  - Icons\n",
    "  - Menus\n",
    " - \n",
    " \n",
    "FishShell\n",
    " - https://fishshell.com\n",
    " - bash - ctrl+r for history\n",
    " - \n",
    "\n",
    "Be forthcoming, eschew special keys\n",
    "\n",
    "User Focus \n",
    " - CAPS\n",
    " - scope the commands to the context\n",
    " - Users come first\n",
    " - implementation comes last\n",
    " \n",
    "bpython\n",
    " - https://bpython...\n",
    " \n",
    "Configurability?\n",
    " - root of all evil\n",
    " - subjective options only\n",
    " - \n",
    " \n",
    "How can I implement this?? how hard will it be?\n",
    "\n",
    "the checklist:\n",
    " - persistent history\n",
    " - history search\n",
    " - emacs keybindings (?)\n",
    " - paged output\n",
    " - auto-completion\n",
    " - minimal config\n",
    " - syntax coloring\n",
    " \n",
    "there is already a tool: prompt-toolkit\n",
    "\n"
   ]
  },
  {
   "cell_type": "code",
   "execution_count": 1,
   "metadata": {},
   "outputs": [
    {
     "ename": "ImportError",
     "evalue": "cannot import name 'AutSuggestFromHistory'",
     "output_type": "error",
     "traceback": [
      "\u001b[0;31m---------------------------------------------------------------------------\u001b[0m",
      "\u001b[0;31mImportError\u001b[0m                               Traceback (most recent call last)",
      "\u001b[0;32m<ipython-input-1-44f3a1ab06d6>\u001b[0m in \u001b[0;36m<module>\u001b[0;34m()\u001b[0m\n\u001b[1;32m      1\u001b[0m \u001b[0;32mfrom\u001b[0m \u001b[0mprompt_toolkit\u001b[0m \u001b[0;32mimport\u001b[0m \u001b[0mprompt\u001b[0m\u001b[0;34m\u001b[0m\u001b[0m\n\u001b[1;32m      2\u001b[0m \u001b[0;32mfrom\u001b[0m \u001b[0mprompt_toolkit\u001b[0m\u001b[0;34m.\u001b[0m\u001b[0mhistory\u001b[0m \u001b[0;32mimport\u001b[0m \u001b[0mFileHistory\u001b[0m\u001b[0;34m\u001b[0m\u001b[0m\n\u001b[0;32m----> 3\u001b[0;31m \u001b[0;32mfrom\u001b[0m \u001b[0mprompt_toolkit\u001b[0m\u001b[0;34m.\u001b[0m\u001b[0mauto_suggest\u001b[0m  \u001b[0;32mimport\u001b[0m \u001b[0mAutSuggestFromHistory\u001b[0m\u001b[0;34m\u001b[0m\u001b[0m\n\u001b[0m\u001b[1;32m      4\u001b[0m \u001b[0;32mfrom\u001b[0m \u001b[0mprompt_toolkit\u001b[0m\u001b[0;34m.\u001b[0m\u001b[0mcontrib\u001b[0m\u001b[0;34m.\u001b[0m\u001b[0mcompleters\u001b[0m \u001b[0;32mimport\u001b[0m \u001b[0mWordCompleter\u001b[0m\u001b[0;34m\u001b[0m\u001b[0m\n\u001b[1;32m      5\u001b[0m \u001b[0;32mfrom\u001b[0m \u001b[0mpygments\u001b[0m\u001b[0;34m.\u001b[0m\u001b[0mlexers\u001b[0m\u001b[0;34m.\u001b[0m\u001b[0msql\u001b[0m \u001b[0;32mimport\u001b[0m \u001b[0mSqlLexer\u001b[0m\u001b[0;34m\u001b[0m\u001b[0m\n",
      "\u001b[0;31mImportError\u001b[0m: cannot import name 'AutSuggestFromHistory'"
     ]
    }
   ],
   "source": [
    "from prompt_toolkit import prompt\n",
    "from prompt_toolkit.history import FileHistory\n",
    "from prompt_toolkit.auto_suggest  import AutSuggestFromHistory\n",
    "from prompt_toolkit.contrib.completers import WordCompleter\n",
    "from pygments.lexers.sql import SqlLexer\n",
    "\n",
    "sql_completer = WordCompleter(['SELECT', 'SHOW', 'FROM'], ignore_case=True)\n",
    "\n",
    "while 1:\n",
    "    inp = prompt(u'> ',\n",
    "                history=FileHistory('history.txt'),\n",
    "                auto_suggest=AutSuggestFromHistory,\n",
    "                completer=sql_completer,\n",
    "                lexer=SqlLexer)\n",
    "    print(inp)\n"
   ]
  },
  {
   "cell_type": "markdown",
   "metadata": {},
   "source": [
    "check out the `click` library for paged output."
   ]
  },
  {
   "cell_type": "code",
   "execution_count": null,
   "metadata": {
    "collapsed": true
   },
   "outputs": [],
   "source": []
  }
 ],
 "metadata": {
  "kernelspec": {
   "display_name": "Python 3",
   "language": "python",
   "name": "python3"
  },
  "language_info": {
   "codemirror_mode": {
    "name": "ipython",
    "version": 3
   },
   "file_extension": ".py",
   "mimetype": "text/x-python",
   "name": "python",
   "nbconvert_exporter": "python",
   "pygments_lexer": "ipython3",
   "version": "3.4.3"
  }
 },
 "nbformat": 4,
 "nbformat_minor": 2
}
