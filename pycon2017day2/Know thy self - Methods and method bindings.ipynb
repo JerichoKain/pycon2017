{
 "cells": [
  {
   "cell_type": "markdown",
   "metadata": {},
   "source": [
    "# Know thy self: Methods and method binding\n",
    "Thomas Balinger\n",
    "\n",
    "descriptors!\n",
    "\n",
    "`__get__`\n",
    "\n",
    "resources\n",
    "- data model - py docs\n",
    "- descriptor howto guide - raymond hettinger\n",
    "- how lookup works - andrew barnet\n",
    "- why explicit self has to stay - Guido van rossum\n"
   ]
  },
  {
   "cell_type": "markdown",
   "metadata": {},
   "source": []
  }
 ],
 "metadata": {
  "kernelspec": {
   "display_name": "Python 3",
   "language": "python",
   "name": "python3"
  },
  "language_info": {
   "codemirror_mode": {
    "name": "ipython",
    "version": 3
   },
   "file_extension": ".py",
   "mimetype": "text/x-python",
   "name": "python",
   "nbconvert_exporter": "python",
   "pygments_lexer": "ipython3",
   "version": "3.4.3"
  }
 },
 "nbformat": 4,
 "nbformat_minor": 2
}
