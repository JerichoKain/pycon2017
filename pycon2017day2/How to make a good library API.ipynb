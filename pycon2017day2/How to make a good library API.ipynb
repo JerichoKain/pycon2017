{
 "cells": [
  {
   "cell_type": "markdown",
   "metadata": {},
   "source": [
    "# How to make a good library API\n",
    "Flavio Juvenal\n",
    "\n",
    "makes it easier to develop a solution by providing the building blocks to be put toegther by other developers\n",
    "\n",
    "an API is a UI\n",
    "\n",
    "Simplicity, Flexibility, Consistency, Safety\n",
    "\n",
    "http://python.apichecklist.com\n",
    "\n",
    "### Simplicity\n",
    "`Simple is better than complex` - Zen of python\n",
    "\n",
    "focus on the 90% use case\n",
    "90% call a function / use a class\n",
    "6% call some functions / inherit classes to change attr\n",
    "3% call some functions interwines with custom logic / inherit classes to change methoods\n",
    "1% please fork\n",
    "\n",
    "90 = simple\n",
    "6-3-1 = flexibility\n",
    "\n",
    "90% use case startes with the README\n",
    "Pitch to your uses\n",
    " - why this lib exists?\n",
    " - what it solves\n",
    " - to which extent? \n",
    " - Pendulum\n",
    "\n",
    "Show how to use\n",
    "- write sampke code\n",
    "\n",
    "know your users\n",
    "test the API design with other dev\n",
    "ask what they need \n",
    "ask them to use it\n",
    "measure how API is being used\n",
    "figure out the 90% more common use cases\n",
    "know what the other k10% need to extend\n",
    "\n",
    "Reduce clutter for 90% use case\n",
    "- progressive disclosure\n",
    "- ie: google.com\n"
   ]
  },
  {
   "cell_type": "code",
   "execution_count": 1,
   "metadata": {},
   "outputs": [
    {
     "ename": "NameError",
     "evalue": "name 'Pizza' is not defined",
     "output_type": "error",
     "traceback": [
      "\u001b[0;31m---------------------------------------------------------------------------\u001b[0m",
      "\u001b[0;31mNameError\u001b[0m                                 Traceback (most recent call last)",
      "\u001b[0;32m<ipython-input-1-efafd9bd5a08>\u001b[0m in \u001b[0;36m<module>\u001b[0;34m()\u001b[0m\n\u001b[0;32m----> 1\u001b[0;31m \u001b[0mPizza\u001b[0m\u001b[0;34m.\u001b[0m\u001b[0mobjects\u001b[0m\u001b[0;34m.\u001b[0m\u001b[0mfilter\u001b[0m\u001b[0;34m(\u001b[0m\u001b[0mdescription__search\u001b[0m\u001b[0;34m=\u001b[0m\u001b[0;34m'egg'\u001b[0m\u001b[0;34m)\u001b[0m\u001b[0;34m\u001b[0m\u001b[0m\n\u001b[0m\u001b[1;32m      2\u001b[0m \u001b[0mEntry\u001b[0m\u001b[0;34m.\u001b[0m\u001b[0mobjects\u001b[0m\u001b[0;34m.\u001b[0m\u001b[0mannotate\u001b[0m\u001b[0;34m(\u001b[0m\u001b[0msearch\u001b[0m\u001b[0;34m=\u001b[0m\u001b[0mSearchVector\u001b[0m\u001b[0;34m(\u001b[0m\u001b[0;34m'desciption'\u001b[0m\u001b[0;34m,\u001b[0m \u001b[0mconfig\u001b[0m\u001b[0;34m=\u001b[0m\u001b[0;34m'french'\u001b[0m\u001b[0;34m)\u001b[0m\u001b[0;34m)\u001b[0m\u001b[0;34m\u001b[0m\u001b[0m\n",
      "\u001b[0;31mNameError\u001b[0m: name 'Pizza' is not defined"
     ]
    }
   ],
   "source": [
    "Pizza.objects.filter(description__search='egg')\n",
    "Entry.objects.annotate(search=SearchVector('desciption', config='french'))"
   ]
  },
  {
   "cell_type": "markdown",
   "metadata": {},
   "source": [
    "have good defaults\n",
    "- make assumptions, require only the essentions, order the arguments\n",
    "\n",
    "avoid cumbersome inputs\n"
   ]
  },
  {
   "cell_type": "code",
   "execution_count": 3,
   "metadata": {},
   "outputs": [
    {
     "ename": "SyntaxError",
     "evalue": "invalid syntax (<ipython-input-3-1af616a7839b>, line 2)",
     "output_type": "error",
     "traceback": [
      "\u001b[0;36m  File \u001b[0;32m\"<ipython-input-3-1af616a7839b>\"\u001b[0;36m, line \u001b[0;32m2\u001b[0m\n\u001b[0;31m    mailer.send(to=[\"\"...])\u001b[0m\n\u001b[0m                        ^\u001b[0m\n\u001b[0;31mSyntaxError\u001b[0m\u001b[0;31m:\u001b[0m invalid syntax\n"
     ]
    }
   ],
   "source": [
    "#scrapy\n",
    "mailer.send(to=[\"\"...]) # was a list, changed to a string\n",
    "\n",
    "RawCondigParser.readfg\n"
   ]
  },
  {
   "cell_type": "markdown",
   "metadata": {},
   "source": [
    "Create abstrations\n",
    "move away form how, focus on what    \n"
   ]
  },
  {
   "cell_type": "code",
   "execution_count": 4,
   "metadata": {},
   "outputs": [
    {
     "ename": "NameError",
     "evalue": "name 'app' is not defined",
     "output_type": "error",
     "traceback": [
      "\u001b[0;31m---------------------------------------------------------------------------\u001b[0m",
      "\u001b[0;31mNameError\u001b[0m                                 Traceback (most recent call last)",
      "\u001b[0;32m<ipython-input-4-6d2b2538def5>\u001b[0m in \u001b[0;36m<module>\u001b[0;34m()\u001b[0m\n\u001b[1;32m      1\u001b[0m \u001b[0;31m#Celery\u001b[0m\u001b[0;34m\u001b[0m\u001b[0;34m\u001b[0m\u001b[0m\n\u001b[0;32m----> 2\u001b[0;31m \u001b[0;34m@\u001b[0m\u001b[0mapp\u001b[0m\u001b[0;34m.\u001b[0m\u001b[0mtask\u001b[0m\u001b[0;34m\u001b[0m\u001b[0m\n\u001b[0m\u001b[1;32m      3\u001b[0m \u001b[0;32mdef\u001b[0m \u001b[0madd\u001b[0m\u001b[0;34m(\u001b[0m\u001b[0mx\u001b[0m\u001b[0;34m,\u001b[0m \u001b[0my\u001b[0m\u001b[0;34m)\u001b[0m\u001b[0;34m:\u001b[0m\u001b[0;34m\u001b[0m\u001b[0m\n\u001b[1;32m      4\u001b[0m     \u001b[0;32mreturn\u001b[0m \u001b[0mx\u001b[0m \u001b[0;34m+\u001b[0m \u001b[0my\u001b[0m\u001b[0;34m\u001b[0m\u001b[0m\n\u001b[1;32m      5\u001b[0m \u001b[0;34m\u001b[0m\u001b[0m\n",
      "\u001b[0;31mNameError\u001b[0m: name 'app' is not defined"
     ]
    }
   ],
   "source": [
    "#Celery\n",
    "@app.task\n",
    "def add(x, y):\n",
    "    return x + y\n",
    "\n",
    "#htmlsoup\n",
    "html_soup.select('p.strikeout')\n",
    "\n",
    "#pillow\n",
    "from PIL import image\n",
    "im = Image.open('bridge.jpg')\n",
    "im.rotate()\n",
    "\n"
   ]
  },
  {
   "cell_type": "markdown",
   "metadata": {},
   "source": [
    "Law of leaky abstractions\n",
    "- problem: celery task, workers can crash.\n",
    "- solution: acks_late=True + idempotent tasks\n",
    "    \n",
    "but complex is better than complicated\n",
    "RPC - REST\n",
    "\n",
    "Make it pythonic\n",
    "- Recognition rather than recall\n"
   ]
  },
  {
   "cell_type": "code",
   "execution_count": null,
   "metadata": {
    "collapsed": true
   },
   "outputs": [],
   "source": [
    "#py2\n",
    "parser.get(section, option)\n",
    "\n",
    "#py3\n",
    "parser['section']['option']"
   ]
  },
  {
   "cell_type": "markdown",
   "metadata": {},
   "source": [
    "Integration discontinuity\n",
    "have multiple options of integration:\n",
    "\n",
    "- way overkill\n",
    "- slightly overkill\n",
    "- solved\n",
    "- unsolved\n",
    "\n",
    "or\n",
    "\n",
    "- way overkill\n",
    "- unsolved\n",
    "\n",
    "increase granulatiry"
   ]
  },
  {
   "cell_type": "code",
   "execution_count": 5,
   "metadata": {},
   "outputs": [
    {
     "ename": "NameError",
     "evalue": "name 'print_format' is not defined",
     "output_type": "error",
     "traceback": [
      "\u001b[0;31m---------------------------------------------------------------------------\u001b[0m",
      "\u001b[0;31mNameError\u001b[0m                                 Traceback (most recent call last)",
      "\u001b[0;32m<ipython-input-5-714d5194706d>\u001b[0m in \u001b[0;36m<module>\u001b[0;34m()\u001b[0m\n\u001b[1;32m      1\u001b[0m \u001b[0;31m#bad\u001b[0m\u001b[0;34m\u001b[0m\u001b[0;34m\u001b[0m\u001b[0m\n\u001b[0;32m----> 2\u001b[0;31m \u001b[0mprint_format\u001b[0m\u001b[0;34m(\u001b[0m\u001b[0;34m'hello'\u001b[0m\u001b[0;34m,\u001b[0m \u001b[0;34m'red'\u001b[0m\u001b[0;34m,\u001b[0m \u001b[0;34m'bold'\u001b[0m\u001b[0;34m)\u001b[0m\u001b[0;34m\u001b[0m\u001b[0m\n\u001b[0m\u001b[1;32m      3\u001b[0m \u001b[0;34m\u001b[0m\u001b[0m\n\u001b[1;32m      4\u001b[0m \u001b[0;31m#so-so\u001b[0m\u001b[0;34m\u001b[0m\u001b[0;34m\u001b[0m\u001b[0m\n\u001b[1;32m      5\u001b[0m \u001b[0mprint_format\u001b[0m\u001b[0;34m(\u001b[0m\u001b[0;34m)\u001b[0m\u001b[0;34m\u001b[0m\u001b[0m\n",
      "\u001b[0;31mNameError\u001b[0m: name 'print_format' is not defined"
     ]
    }
   ],
   "source": [
    "#bad\n",
    "print_format('hello', 'red', 'bold')\n",
    "\n",
    "#so-so\n",
    "print_format('hello', formatted=('red'', bold))"
   ]
  },
  {
   "cell_type": "raw",
   "metadata": {},
   "source": [
    "mock.patch smell is a missed extension\n",
    "\n",
    "attributes vs methods smell\n",
    "\n",
    "by pythonic\n",
    "designing patterns are missing lang features\n",
    "duck-type, not adaptor\n",
    "high order functions, not strategy\n",
    "\n"
   ]
  }
 ],
 "metadata": {
  "kernelspec": {
   "display_name": "Python 3",
   "language": "python",
   "name": "python3"
  },
  "language_info": {
   "codemirror_mode": {
    "name": "ipython",
    "version": 3
   },
   "file_extension": ".py",
   "mimetype": "text/x-python",
   "name": "python",
   "nbconvert_exporter": "python",
   "pygments_lexer": "ipython3",
   "version": "3.4.3"
  }
 },
 "nbformat": 4,
 "nbformat_minor": 2
}
