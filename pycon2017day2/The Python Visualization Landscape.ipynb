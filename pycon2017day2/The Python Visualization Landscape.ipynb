{
 "cells": [
  {
   "cell_type": "markdown",
   "metadata": {},
   "source": [
    "# The Python Visualization Landscape\n",
    "Jake VanderPlas\n",
    "\n",
    "\n",
    "Starts with matplotlib\n",
    "- been around for almost 20 years\n",
    "- big eco system\n",
    "\n",
    "Then there is a javascript cluster\n",
    "- bokeh, plotly, reppty new\n",
    "\n",
    "bridge\n",
    "- d3js, mpld3\n",
    "\n",
    "openGL, Vega, on and on\n",
    "\n",
    "matplotlib\n",
    "- many rendering backends\n",
    "- designed like matlab\n",
    "- well tested\n",
    "- not interactive\n",
    "- slow with lots of data\n",
    "\n",
    "pandas\n",
    "- removed boiler plates\n",
    "- andrews_curves (plot ead dataframe)\n",
    "\n",
    "Seaborn\n",
    "- statistical data visualization\n",
    "- pairwise plot to easily view all pairs\n",
    "\n",
    "javascript stack\n",
    "- python has api for data serialization\n",
    "- browser handles rendering\n",
    "- bokeh, lots of examples (gallery)\n",
    "- imperative and declarative layers\n",
    "- doesn't do PDF or some of the other renders\n",
    "- plotly - mostly free, paid hosting - multi-language\n",
    "\n",
    "\n",
    "- vispy, lightning\n",
    "- datashader, fast server-side engine for dynamic data aggregation\n",
    " - for super large sets -heatmaps\n",
    " \n",
    "- holoviews - datasets should already knopw how to be viz best\n",
    "- altair - pass data and viz metadata.\n",
    " - could be used for science results\n",
    " - declarative viz\n",
    " \n",
    "\n",
    "\n",
    "\n",
    "\n",
    "\n"
   ]
  },
  {
   "cell_type": "code",
   "execution_count": null,
   "metadata": {},
   "outputs": [],
   "source": []
  },
  {
   "cell_type": "code",
   "execution_count": null,
   "metadata": {
    "collapsed": true
   },
   "outputs": [],
   "source": []
  }
 ],
 "metadata": {
  "kernelspec": {
   "display_name": "Python 3",
   "language": "python",
   "name": "python3"
  },
  "language_info": {
   "codemirror_mode": {
    "name": "ipython",
    "version": 3
   },
   "file_extension": ".py",
   "mimetype": "text/x-python",
   "name": "python",
   "nbconvert_exporter": "python",
   "pygments_lexer": "ipython3",
   "version": "3.4.3"
  }
 },
 "nbformat": 4,
 "nbformat_minor": 2
}
