{
 "cells": [
  {
   "cell_type": "markdown",
   "metadata": {},
   "source": [
    "Fuzzy Search Algorithms\n",
    "\n",
    "https://github.com/jiaq\n",
    "\n",
    "Overview\n",
    "- Common Fuzzy Search Algorithms\n",
    "- Implementation in Python/Postgres\n",
    "- Semantic Analysis\n",
    "\n",
    "Entity Resolution\n",
    "(US vs USA)\n",
    "\n",
    "phonetic algorithm - soundex\n",
    "\n",
    "american soundex encoding - simple, deterministic, fast / considers only letters\n",
    "Jelleyfish\n",
    "postgres - fuzzysearch\n",
    "\n",
    "how do you calculate distance from words\n",
    "levenshtein distance / edit distance\n",
    " - deletion\n",
    " - insertion\n",
    " - substution\n",
    " \n",
    "Damerau - levenshtein\n",
    "- transposition is also included\n",
    "\n",
    "pitfall\n",
    "- addresses (numbers)\n",
    "- longer strings\n",
    "\n",
    "n-gram/trigram\n",
    "- jaccard similarity\n",
    "- intersection over union\n",
    "\n",
    "note, not a large dataset, but quickly becomes slow. Can get around this with postgres by calculating and index by fuzzy\n",
    "\n",
    "Semantic Search\n",
    "NLTK - wordnet\n",
    "word2vec - tensor flow - word to vectors\n",
    "\n",
    "\n"
   ]
  },
  {
   "cell_type": "code",
   "execution_count": null,
   "metadata": {
    "collapsed": true
   },
   "outputs": [],
   "source": []
  }
 ],
 "metadata": {
  "kernelspec": {
   "display_name": "Python 3",
   "language": "python",
   "name": "python3"
  },
  "language_info": {
   "codemirror_mode": {
    "name": "ipython",
    "version": 3
   },
   "file_extension": ".py",
   "mimetype": "text/x-python",
   "name": "python",
   "nbconvert_exporter": "python",
   "pygments_lexer": "ipython3",
   "version": "3.4.3"
  }
 },
 "nbformat": 4,
 "nbformat_minor": 2
}
